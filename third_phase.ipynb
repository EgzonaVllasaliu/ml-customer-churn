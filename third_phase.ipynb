{
 "cells": [
  {
   "attachments": {},
   "cell_type": "markdown",
   "metadata": {},
   "source": [
    "# This project aimed to analyze the factors affecting customer churn in a telecommunications company and to build a machine learning model to predict customer churn\n",
    "\n",
    "The data was preprocessed, and the relevant features were identified. The following steps were taken during the analysis:\n",
    "\n",
    "1. Visualized the correlation matrix to identify the relationships between the features.\n",
    "2. Analyzed the distribution of numerical features and visualized their impact on churn.\n",
    "3. Analyzed the distribution of categorical features and visualized their impact on churn.\n",
    "4. Split the data into training and test sets, and applied SMOTE to balance the classes in the training set.\n",
    "5. Trained a Random Forest Classifier using cross-validation and hyperparameter tuning.\n",
    "6. Identified the important features using the feature importances of the best model.\n",
    "7. Evaluated the model's performance using accuracy, precision, recall, F1 score, and AUC-ROC score.\n",
    "8. Analyzed feature importances using permutation importance.\n",
    "\n",
    "## Findings\n",
    "\n",
    "* The correlation matrix showed some relationships between the features, such as tenure and TotalCharges, as well as MonthlyCharges and TotalCharges.\n",
    "* The distribution of numerical features (tenure, MonthlyCharges, and TotalCharges) showed different patterns, with some skewed distributions.\n",
    "* The distribution of categorical features showed varying relationships with churn, with some features like Contract and InternetService having a strong association with churn.\n",
    "* The best Random Forest Classifier had an accuracy of 79.3%, precision of 64.4%, recall of 52.6%, F1 score of 57.8%, and an AUC-ROC score of 84.1%.\n",
    "* The top three features identified by the built-in feature importances method were tenure, MonthlyCharges, and TotalCharges.\n",
    "* The permutation importance method showed that tenure, Contract, and InternetService were the most important features, with TotalCharges having a relatively low importance.\n",
    "\n",
    "The analysis revealed that features like tenure, Contract, and InternetService are the most important factors affecting customer churn. The model's performance could be improved by considering adding more relevant features to the dataset. The insights gained from this analysis can be used by the telecommunications company to improve their customer retention strategies and better understand the factors affecting customer churn."
   ]
  },
  {
   "cell_type": "code",
   "execution_count": null,
   "metadata": {},
   "outputs": [],
   "source": []
  }
 ],
 "metadata": {
  "language_info": {
   "name": "python"
  },
  "orig_nbformat": 4
 },
 "nbformat": 4,
 "nbformat_minor": 2
}
